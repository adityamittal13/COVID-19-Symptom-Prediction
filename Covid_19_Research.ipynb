{
  "nbformat": 4,
  "nbformat_minor": 0,
  "metadata": {
    "colab": {
      "name": "Covid-19 Research.ipynb",
      "provenance": [],
      "collapsed_sections": []
    },
    "kernelspec": {
      "name": "python3",
      "display_name": "Python 3"
    }
  },
  "cells": [
    {
      "cell_type": "code",
      "metadata": {
        "id": "a_E3buajuJiP",
        "colab_type": "code",
        "colab": {}
      },
      "source": [
        "import pandas as pd\n",
        "import matplotlib.pyplot as plt\n",
        "import numpy as np\n",
        "\n",
        "\n",
        "cases = pd.read_csv(\"https://data.ca.gov/dataset/590188d5-8545-4c93-a9a0-e230f0db7290/resource/926fd08f-cc91-4828-af38-bd45de97f8c3/download/statewide_cases.csv\")\n",
        "cases_age = pd.read_csv(\"https://data.ca.gov/dataset/590188d5-8545-4c93-a9a0-e230f0db7290/resource/339d1c4d-77ab-44a2-9b40-745e64e335f2/download/case_demographics_age.csv\")\n",
        "testing = pd.read_csv(\"https://data.ca.gov/dataset/efd6b822-7312-477c-922b-bccb82025fbe/resource/b6648a0d-ff0a-4111-b80b-febda2ac9e09/download/statewide_testing.csv\")\n",
        "hospital_data = pd.read_csv(\"https://data.ca.gov/dataset/529ac907-6ba1-4cb7-9aae-8966fc96aeef/resource/42d33765-20fd-44b8-a978-b083b7542225/download/hospitals_by_county.csv\")\n",
        "ppe = pd.read_csv(\"https://data.ca.gov/dataset/da1978f2-068c-472f-be2d-04cdec48c3d9/resource/7d2f11a4-cc0f-4189-8ba4-8bee05493af1/download/logistics_ppe.csv\")\n",
        "cases_race = pd.read_csv(\"https://data.ca.gov/dataset/590188d5-8545-4c93-a9a0-e230f0db7290/resource/7e477adb-d7ab-4d4b-a198-dc4c6dc634c9/download/case_demographics_ethnicity.csv\")\n",
        "\n",
        "\n",
        "cases.to_csv(\"\")"
      ],
      "execution_count": null,
      "outputs": []
    },
    {
      "cell_type": "code",
      "metadata": {
        "id": "a1mYjc9wx3QP",
        "colab_type": "code",
        "colab": {
          "base_uri": "https://localhost:8080/",
          "height": 419
        },
        "outputId": "b27414bc-fc96-41ec-aff0-4369d4c4d651"
      },
      "source": [
        "for index in cases_age.index:\n",
        "  if (cases_age['age_group'][index] == \"Unknown\") or (cases_age['age_group'][index] == \"Missing\"):\n",
        "    cases_age = cases_age.drop([index], axis=0)\n",
        "\n",
        "cases_age"
      ],
      "execution_count": null,
      "outputs": [
        {
          "output_type": "execute_result",
          "data": {
            "text/html": [
              "<div>\n",
              "<style scoped>\n",
              "    .dataframe tbody tr th:only-of-type {\n",
              "        vertical-align: middle;\n",
              "    }\n",
              "\n",
              "    .dataframe tbody tr th {\n",
              "        vertical-align: top;\n",
              "    }\n",
              "\n",
              "    .dataframe thead th {\n",
              "        text-align: right;\n",
              "    }\n",
              "</style>\n",
              "<table border=\"1\" class=\"dataframe\">\n",
              "  <thead>\n",
              "    <tr style=\"text-align: right;\">\n",
              "      <th></th>\n",
              "      <th>age_group</th>\n",
              "      <th>totalpositive</th>\n",
              "      <th>date</th>\n",
              "      <th>case_percent</th>\n",
              "      <th>deaths</th>\n",
              "      <th>deaths_percent</th>\n",
              "      <th>ca_percent</th>\n",
              "    </tr>\n",
              "  </thead>\n",
              "  <tbody>\n",
              "    <tr>\n",
              "      <th>0</th>\n",
              "      <td>0-17</td>\n",
              "      <td>120</td>\n",
              "      <td>2020-04-02</td>\n",
              "      <td>NaN</td>\n",
              "      <td>NaN</td>\n",
              "      <td>NaN</td>\n",
              "      <td>NaN</td>\n",
              "    </tr>\n",
              "    <tr>\n",
              "      <th>1</th>\n",
              "      <td>18-49</td>\n",
              "      <td>5302</td>\n",
              "      <td>2020-04-02</td>\n",
              "      <td>NaN</td>\n",
              "      <td>NaN</td>\n",
              "      <td>NaN</td>\n",
              "      <td>NaN</td>\n",
              "    </tr>\n",
              "    <tr>\n",
              "      <th>2</th>\n",
              "      <td>50-64</td>\n",
              "      <td>2879</td>\n",
              "      <td>2020-04-02</td>\n",
              "      <td>NaN</td>\n",
              "      <td>NaN</td>\n",
              "      <td>NaN</td>\n",
              "      <td>NaN</td>\n",
              "    </tr>\n",
              "    <tr>\n",
              "      <th>3</th>\n",
              "      <td>65 and Older</td>\n",
              "      <td>2342</td>\n",
              "      <td>2020-04-02</td>\n",
              "      <td>NaN</td>\n",
              "      <td>NaN</td>\n",
              "      <td>NaN</td>\n",
              "      <td>NaN</td>\n",
              "    </tr>\n",
              "    <tr>\n",
              "      <th>5</th>\n",
              "      <td>0-17</td>\n",
              "      <td>137</td>\n",
              "      <td>2020-04-03</td>\n",
              "      <td>NaN</td>\n",
              "      <td>NaN</td>\n",
              "      <td>NaN</td>\n",
              "      <td>NaN</td>\n",
              "    </tr>\n",
              "    <tr>\n",
              "      <th>...</th>\n",
              "      <td>...</td>\n",
              "      <td>...</td>\n",
              "      <td>...</td>\n",
              "      <td>...</td>\n",
              "      <td>...</td>\n",
              "      <td>...</td>\n",
              "      <td>...</td>\n",
              "    </tr>\n",
              "    <tr>\n",
              "      <th>513</th>\n",
              "      <td>65+</td>\n",
              "      <td>41080</td>\n",
              "      <td>2020-07-13</td>\n",
              "      <td>12.2</td>\n",
              "      <td>5390.0</td>\n",
              "      <td>76.6</td>\n",
              "      <td>15.6</td>\n",
              "    </tr>\n",
              "    <tr>\n",
              "      <th>515</th>\n",
              "      <td>0-17</td>\n",
              "      <td>29156</td>\n",
              "      <td>2020-07-14</td>\n",
              "      <td>8.4</td>\n",
              "      <td>0.0</td>\n",
              "      <td>0.0</td>\n",
              "      <td>22.5</td>\n",
              "    </tr>\n",
              "    <tr>\n",
              "      <th>516</th>\n",
              "      <td>18-49</td>\n",
              "      <td>207574</td>\n",
              "      <td>2020-07-14</td>\n",
              "      <td>59.7</td>\n",
              "      <td>466.0</td>\n",
              "      <td>6.5</td>\n",
              "      <td>43.5</td>\n",
              "    </tr>\n",
              "    <tr>\n",
              "      <th>517</th>\n",
              "      <td>50-64</td>\n",
              "      <td>68493</td>\n",
              "      <td>2020-07-14</td>\n",
              "      <td>19.7</td>\n",
              "      <td>1220.0</td>\n",
              "      <td>17.0</td>\n",
              "      <td>18.4</td>\n",
              "    </tr>\n",
              "    <tr>\n",
              "      <th>518</th>\n",
              "      <td>65+</td>\n",
              "      <td>42007</td>\n",
              "      <td>2020-07-14</td>\n",
              "      <td>12.1</td>\n",
              "      <td>5478.0</td>\n",
              "      <td>76.5</td>\n",
              "      <td>15.6</td>\n",
              "    </tr>\n",
              "  </tbody>\n",
              "</table>\n",
              "<p>416 rows × 7 columns</p>\n",
              "</div>"
            ],
            "text/plain": [
              "        age_group  totalpositive  ... deaths_percent  ca_percent\n",
              "0            0-17            120  ...            NaN         NaN\n",
              "1           18-49           5302  ...            NaN         NaN\n",
              "2           50-64           2879  ...            NaN         NaN\n",
              "3    65 and Older           2342  ...            NaN         NaN\n",
              "5            0-17            137  ...            NaN         NaN\n",
              "..            ...            ...  ...            ...         ...\n",
              "513           65+          41080  ...           76.6        15.6\n",
              "515          0-17          29156  ...            0.0        22.5\n",
              "516         18-49         207574  ...            6.5        43.5\n",
              "517         50-64          68493  ...           17.0        18.4\n",
              "518           65+          42007  ...           76.5        15.6\n",
              "\n",
              "[416 rows x 7 columns]"
            ]
          },
          "metadata": {
            "tags": []
          },
          "execution_count": 3
        }
      ]
    },
    {
      "cell_type": "code",
      "metadata": {
        "id": "oOsUy97JdUr8",
        "colab_type": "code",
        "colab": {
          "base_uri": "https://localhost:8080/",
          "height": 419
        },
        "outputId": "ce8435a6-ffa4-4d75-892e-9c3368109a84"
      },
      "source": [
        "dictionary = {'date':[], '0-17':[], '18-49':[], '50-64':[], '65+':[]}\n",
        "  \n",
        "zerosum = 0\n",
        "eighteensum = 0\n",
        "fiftysum = 0\n",
        "sixtyfivesum = 0\n",
        "totalsum = 0\n",
        "date = cases_age['date'][0]\n",
        "for index in cases_age.index:\n",
        "\n",
        "  if (date == cases_age['date'][index]):\n",
        "    if (str(cases_age['age_group'][index])[:1] == \"0\"):\n",
        "      zerosum = cases_age['totalpositive'][index]\n",
        "    elif (str(cases_age['age_group'][index])[:2] == \"18\"):\n",
        "      eighteensum = cases_age['totalpositive'][index]\n",
        "    elif (str(cases_age['age_group'][index])[:2] == \"50\"):\n",
        "      fiftysum = cases_age['totalpositive'][index]\n",
        "    elif (str(cases_age['age_group'][index])[:2] == \"65\"):\n",
        "      sixtyfivesum = cases_age['totalpositive'][index]\n",
        "    totalsum += cases_age['totalpositive'][index]\n",
        "  else:\n",
        "    dictionary['date'].append(date)\n",
        "    dictionary['0-17'].append((zerosum/totalsum)*100)\n",
        "    dictionary['18-49'].append((eighteensum/totalsum)*100)\n",
        "    dictionary['50-64'].append((fiftysum/totalsum)*100)\n",
        "    dictionary['65+'].append((sixtyfivesum/totalsum)*100)\n",
        "    date = cases_age['date'][index]\n",
        "    totalsum = 0\n",
        "\n",
        "age_percent = pd.DataFrame(data = dictionary)\n",
        "age_percent = age_percent.drop([45], axis=0)\n",
        "age_percent = age_percent.drop([51], axis=0)\n",
        "age_percent"
      ],
      "execution_count": null,
      "outputs": [
        {
          "output_type": "execute_result",
          "data": {
            "text/html": [
              "<div>\n",
              "<style scoped>\n",
              "    .dataframe tbody tr th:only-of-type {\n",
              "        vertical-align: middle;\n",
              "    }\n",
              "\n",
              "    .dataframe tbody tr th {\n",
              "        vertical-align: top;\n",
              "    }\n",
              "\n",
              "    .dataframe thead th {\n",
              "        text-align: right;\n",
              "    }\n",
              "</style>\n",
              "<table border=\"1\" class=\"dataframe\">\n",
              "  <thead>\n",
              "    <tr style=\"text-align: right;\">\n",
              "      <th></th>\n",
              "      <th>date</th>\n",
              "      <th>0-17</th>\n",
              "      <th>18-49</th>\n",
              "      <th>50-64</th>\n",
              "      <th>65+</th>\n",
              "    </tr>\n",
              "  </thead>\n",
              "  <tbody>\n",
              "    <tr>\n",
              "      <th>0</th>\n",
              "      <td>2020-04-02</td>\n",
              "      <td>1.127502</td>\n",
              "      <td>49.816781</td>\n",
              "      <td>27.050644</td>\n",
              "      <td>22.005074</td>\n",
              "    </tr>\n",
              "    <tr>\n",
              "      <th>1</th>\n",
              "      <td>2020-04-03</td>\n",
              "      <td>1.014370</td>\n",
              "      <td>50.016906</td>\n",
              "      <td>27.497887</td>\n",
              "      <td>22.485207</td>\n",
              "    </tr>\n",
              "    <tr>\n",
              "      <th>2</th>\n",
              "      <td>2020-04-04</td>\n",
              "      <td>0.907098</td>\n",
              "      <td>49.965984</td>\n",
              "      <td>27.613576</td>\n",
              "      <td>22.420440</td>\n",
              "    </tr>\n",
              "    <tr>\n",
              "      <th>3</th>\n",
              "      <td>2020-04-05</td>\n",
              "      <td>0.850340</td>\n",
              "      <td>50.304705</td>\n",
              "      <td>27.522676</td>\n",
              "      <td>22.172619</td>\n",
              "    </tr>\n",
              "    <tr>\n",
              "      <th>4</th>\n",
              "      <td>2020-04-06</td>\n",
              "      <td>0.768590</td>\n",
              "      <td>49.657337</td>\n",
              "      <td>27.822968</td>\n",
              "      <td>22.519695</td>\n",
              "    </tr>\n",
              "    <tr>\n",
              "      <th>...</th>\n",
              "      <td>...</td>\n",
              "      <td>...</td>\n",
              "      <td>...</td>\n",
              "      <td>...</td>\n",
              "      <td>...</td>\n",
              "    </tr>\n",
              "    <tr>\n",
              "      <th>99</th>\n",
              "      <td>2020-07-09</td>\n",
              "      <td>0.043045</td>\n",
              "      <td>64.468884</td>\n",
              "      <td>21.776233</td>\n",
              "      <td>13.754883</td>\n",
              "    </tr>\n",
              "    <tr>\n",
              "      <th>100</th>\n",
              "      <td>2020-07-10</td>\n",
              "      <td>0.041943</td>\n",
              "      <td>64.640932</td>\n",
              "      <td>21.713934</td>\n",
              "      <td>13.645134</td>\n",
              "    </tr>\n",
              "    <tr>\n",
              "      <th>101</th>\n",
              "      <td>2020-07-11</td>\n",
              "      <td>0.040847</td>\n",
              "      <td>64.779326</td>\n",
              "      <td>21.681383</td>\n",
              "      <td>13.539291</td>\n",
              "    </tr>\n",
              "    <tr>\n",
              "      <th>102</th>\n",
              "      <td>2020-07-12</td>\n",
              "      <td>0.039820</td>\n",
              "      <td>64.956414</td>\n",
              "      <td>21.613425</td>\n",
              "      <td>13.430161</td>\n",
              "    </tr>\n",
              "    <tr>\n",
              "      <th>103</th>\n",
              "      <td>2020-07-13</td>\n",
              "      <td>0.038968</td>\n",
              "      <td>65.088782</td>\n",
              "      <td>21.571130</td>\n",
              "      <td>13.340088</td>\n",
              "    </tr>\n",
              "  </tbody>\n",
              "</table>\n",
              "<p>102 rows × 5 columns</p>\n",
              "</div>"
            ],
            "text/plain": [
              "           date      0-17      18-49      50-64        65+\n",
              "0    2020-04-02  1.127502  49.816781  27.050644  22.005074\n",
              "1    2020-04-03  1.014370  50.016906  27.497887  22.485207\n",
              "2    2020-04-04  0.907098  49.965984  27.613576  22.420440\n",
              "3    2020-04-05  0.850340  50.304705  27.522676  22.172619\n",
              "4    2020-04-06  0.768590  49.657337  27.822968  22.519695\n",
              "..          ...       ...        ...        ...        ...\n",
              "99   2020-07-09  0.043045  64.468884  21.776233  13.754883\n",
              "100  2020-07-10  0.041943  64.640932  21.713934  13.645134\n",
              "101  2020-07-11  0.040847  64.779326  21.681383  13.539291\n",
              "102  2020-07-12  0.039820  64.956414  21.613425  13.430161\n",
              "103  2020-07-13  0.038968  65.088782  21.571130  13.340088\n",
              "\n",
              "[102 rows x 5 columns]"
            ]
          },
          "metadata": {
            "tags": []
          },
          "execution_count": 4
        }
      ]
    },
    {
      "cell_type": "code",
      "metadata": {
        "id": "imVVgEKzutr-",
        "colab_type": "code",
        "colab": {
          "base_uri": "https://localhost:8080/",
          "height": 293
        },
        "outputId": "93188dbc-77a1-44fa-b82b-3a1d8b2ce077"
      },
      "source": [
        "plt.scatter(testing['date'], testing['tested'])"
      ],
      "execution_count": null,
      "outputs": [
        {
          "output_type": "execute_result",
          "data": {
            "text/plain": [
              "<matplotlib.collections.PathCollection at 0x7f0c79af27f0>"
            ]
          },
          "metadata": {
            "tags": []
          },
          "execution_count": 5
        },
        {
          "output_type": "display_data",
          "data": {
            "image/png": "[encoded data removed]",
            "text/plain": [
              "<Figure size 432x288 with 1 Axes>"
            ]
          },
          "metadata": {
            "tags": [],
            "needs_background": "light"
          }
        }
      ]
    },
    {
      "cell_type": "code",
      "metadata": {
        "id": "8H3dMAj3vjoa",
        "colab_type": "code",
        "colab": {
          "base_uri": "https://localhost:8080/",
          "height": 282
        },
        "outputId": "a2bab47b-5537-4ad0-93e7-d79c1409ef76"
      },
      "source": [
        "plt.scatter(cases['date'], cases['totalcountconfirmed'])"
      ],
      "execution_count": null,
      "outputs": [
        {
          "output_type": "execute_result",
          "data": {
            "text/plain": [
              "<matplotlib.collections.PathCollection at 0x7f0c7949def0>"
            ]
          },
          "metadata": {
            "tags": []
          },
          "execution_count": 6
        },
        {
          "output_type": "display_data",
          "data": {
            "image/png": "[encoded data removed]",
            "text/plain": [
              "<Figure size 432x288 with 1 Axes>"
            ]
          },
          "metadata": {
            "tags": [],
            "needs_background": "light"
          }
        }
      ]
    },
    {
      "cell_type": "code",
      "metadata": {
        "id": "9WP8Od_SvodK",
        "colab_type": "code",
        "colab": {
          "base_uri": "https://localhost:8080/",
          "height": 282
        },
        "outputId": "05e4e7dd-d4e9-4318-9ffd-36c9d8475d99"
      },
      "source": [
        "plt.scatter(hospital_data['todays_date'], hospital_data['hospitalized_covid_confirmed_patients'])"
      ],
      "execution_count": null,
      "outputs": [
        {
          "output_type": "execute_result",
          "data": {
            "text/plain": [
              "<matplotlib.collections.PathCollection at 0x7f0c7932c9b0>"
            ]
          },
          "metadata": {
            "tags": []
          },
          "execution_count": 7
        },
        {
          "output_type": "display_data",
          "data": {
            "image/png": "[encoded data removed]",
            "text/plain": [
              "<Figure size 432x288 with 1 Axes>"
            ]
          },
          "metadata": {
            "tags": [],
            "needs_background": "light"
          }
        }
      ]
    },
    {
      "cell_type": "code",
      "metadata": {
        "id": "1j4tV4tgiUTl",
        "colab_type": "code",
        "colab": {
          "base_uri": "https://localhost:8080/",
          "height": 282
        },
        "outputId": "ce568cf9-b627-48bf-9d34-958290b0d715"
      },
      "source": [
        "plt.scatter(hospital_data['todays_date'], hospital_data['icu_covid_confirmed_patients'])"
      ],
      "execution_count": null,
      "outputs": [
        {
          "output_type": "execute_result",
          "data": {
            "text/plain": [
              "<matplotlib.collections.PathCollection at 0x7f0c79188080>"
            ]
          },
          "metadata": {
            "tags": []
          },
          "execution_count": 8
        },
        {
          "output_type": "display_data",
          "data": {
            "image/png": "[encoded data removed]",
            "text/plain": [
              "<Figure size 432x288 with 1 Axes>"
            ]
          },
          "metadata": {
            "tags": [],
            "needs_background": "light"
          }
        }
      ]
    },
    {
      "cell_type": "code",
      "metadata": {
        "id": "maJ9-2UKiZAg",
        "colab_type": "code",
        "colab": {
          "base_uri": "https://localhost:8080/",
          "height": 282
        },
        "outputId": "215df389-aac7-4d71-a8dc-1a3c81ad77c6"
      },
      "source": [
        "plt.scatter(age_percent['date'], age_percent['0-17'])\n",
        "plt.scatter(age_percent['date'], age_percent['18-49'])\n",
        "plt.scatter(age_percent['date'], age_percent['65+'])"
      ],
      "execution_count": null,
      "outputs": [
        {
          "output_type": "execute_result",
          "data": {
            "text/plain": [
              "<matplotlib.collections.PathCollection at 0x7f0c79068c50>"
            ]
          },
          "metadata": {
            "tags": []
          },
          "execution_count": 9
        },
        {
          "output_type": "display_data",
          "data": {
            "image/png": "[encoded data removed]",
            "text/plain": [
              "<Figure size 432x288 with 1 Axes>"
            ]
          },
          "metadata": {
            "tags": [],
            "needs_background": "light"
          }
        }
      ]
    }
  ]
}